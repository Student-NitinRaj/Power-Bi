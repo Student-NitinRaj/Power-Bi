{
 "cells": [
  {
   "cell_type": "code",
   "execution_count": 1,
   "id": "2697f242",
   "metadata": {
    "_cell_guid": "b1076dfc-b9ad-4769-8c92-a6c4dae69d19",
    "_uuid": "8f2839f25d086af736a60e9eeb907d3b93b6e0e5",
    "execution": {
     "iopub.execute_input": "2023-10-19T20:03:52.450118Z",
     "iopub.status.busy": "2023-10-19T20:03:52.448976Z",
     "iopub.status.idle": "2023-10-19T20:03:52.908551Z",
     "shell.execute_reply": "2023-10-19T20:03:52.907066Z"
    },
    "papermill": {
     "duration": 0.469313,
     "end_time": "2023-10-19T20:03:52.911336",
     "exception": false,
     "start_time": "2023-10-19T20:03:52.442023",
     "status": "completed"
    },
    "tags": []
   },
   "outputs": [
    {
     "name": "stdout",
     "output_type": "stream",
     "text": [
      "/kaggle/input/virat-kholi-testodit20-stat/final (1).csv\n"
     ]
    }
   ],
   "source": [
    "# This Python 3 environment comes with many helpful analytics libraries installed\n",
    "# It is defined by the kaggle/python Docker image: https://github.com/kaggle/docker-python\n",
    "# For example, here's several helpful packages to load\n",
    "\n",
    "import numpy as np # linear algebra\n",
    "import pandas as pd # data processing, CSV file I/O (e.g. pd.read_csv)\n",
    "\n",
    "# Input data files are available in the read-only \"../input/\" directory\n",
    "# For example, running this (by clicking run or pressing Shift+Enter) will list all files under the input directory\n",
    "\n",
    "import os\n",
    "for dirname, _, filenames in os.walk('/kaggle/input'):\n",
    "    for filename in filenames:\n",
    "        print(os.path.join(dirname, filename))\n",
    "\n",
    "# You can write up to 20GB to the current directory (/kaggle/working/) that gets preserved as output when you create a version using \"Save & Run All\" \n",
    "# You can also write temporary files to /kaggle/temp/, but they won't be saved outside of the current session"
   ]
  },
  {
   "cell_type": "code",
   "execution_count": 2,
   "id": "42ab7289",
   "metadata": {
    "execution": {
     "iopub.execute_input": "2023-10-19T20:03:52.924866Z",
     "iopub.status.busy": "2023-10-19T20:03:52.924259Z",
     "iopub.status.idle": "2023-10-19T20:03:52.970598Z",
     "shell.execute_reply": "2023-10-19T20:03:52.969169Z"
    },
    "papermill": {
     "duration": 0.055018,
     "end_time": "2023-10-19T20:03:52.973331",
     "exception": false,
     "start_time": "2023-10-19T20:03:52.918313",
     "status": "completed"
    },
    "tags": []
   },
   "outputs": [
    {
     "data": {
      "text/html": [
       "<div>\n",
       "<style scoped>\n",
       "    .dataframe tbody tr th:only-of-type {\n",
       "        vertical-align: middle;\n",
       "    }\n",
       "\n",
       "    .dataframe tbody tr th {\n",
       "        vertical-align: top;\n",
       "    }\n",
       "\n",
       "    .dataframe thead th {\n",
       "        text-align: right;\n",
       "    }\n",
       "</style>\n",
       "<table border=\"1\" class=\"dataframe\">\n",
       "  <thead>\n",
       "    <tr style=\"text-align: right;\">\n",
       "      <th></th>\n",
       "      <th>index</th>\n",
       "      <th>runs</th>\n",
       "      <th>opponent</th>\n",
       "      <th>ground</th>\n",
       "      <th>date</th>\n",
       "      <th>match</th>\n",
       "      <th>Match_No</th>\n",
       "      <th>total</th>\n",
       "    </tr>\n",
       "  </thead>\n",
       "  <tbody>\n",
       "    <tr>\n",
       "      <th>0</th>\n",
       "      <td>0</td>\n",
       "      <td>12</td>\n",
       "      <td>SriLanka</td>\n",
       "      <td>Dambulla</td>\n",
       "      <td>18Aug2008</td>\n",
       "      <td>ODI</td>\n",
       "      <td>1</td>\n",
       "      <td>12</td>\n",
       "    </tr>\n",
       "    <tr>\n",
       "      <th>1</th>\n",
       "      <td>1</td>\n",
       "      <td>37</td>\n",
       "      <td>SriLanka</td>\n",
       "      <td>Dambulla</td>\n",
       "      <td>20Aug2008</td>\n",
       "      <td>ODI</td>\n",
       "      <td>2</td>\n",
       "      <td>49</td>\n",
       "    </tr>\n",
       "    <tr>\n",
       "      <th>2</th>\n",
       "      <td>2</td>\n",
       "      <td>25</td>\n",
       "      <td>SriLanka</td>\n",
       "      <td>Colombo(RPS)</td>\n",
       "      <td>24Aug2008</td>\n",
       "      <td>ODI</td>\n",
       "      <td>3</td>\n",
       "      <td>74</td>\n",
       "    </tr>\n",
       "    <tr>\n",
       "      <th>3</th>\n",
       "      <td>3</td>\n",
       "      <td>54</td>\n",
       "      <td>SriLanka</td>\n",
       "      <td>Colombo(RPS)</td>\n",
       "      <td>27Aug2008</td>\n",
       "      <td>ODI</td>\n",
       "      <td>4</td>\n",
       "      <td>128</td>\n",
       "    </tr>\n",
       "    <tr>\n",
       "      <th>4</th>\n",
       "      <td>4</td>\n",
       "      <td>31</td>\n",
       "      <td>SriLanka</td>\n",
       "      <td>Colombo(RPS)</td>\n",
       "      <td>29Aug2008</td>\n",
       "      <td>ODI</td>\n",
       "      <td>5</td>\n",
       "      <td>159</td>\n",
       "    </tr>\n",
       "  </tbody>\n",
       "</table>\n",
       "</div>"
      ],
      "text/plain": [
       "   index  runs  opponent        ground       date match  Match_No  total\n",
       "0      0    12  SriLanka      Dambulla  18Aug2008   ODI         1     12\n",
       "1      1    37  SriLanka      Dambulla  20Aug2008   ODI         2     49\n",
       "2      2    25  SriLanka  Colombo(RPS)  24Aug2008   ODI         3     74\n",
       "3      3    54  SriLanka  Colombo(RPS)  27Aug2008   ODI         4    128\n",
       "4      4    31  SriLanka  Colombo(RPS)  29Aug2008   ODI         5    159"
      ]
     },
     "execution_count": 2,
     "metadata": {},
     "output_type": "execute_result"
    }
   ],
   "source": [
    "df=pd.read_csv(\"/kaggle/input/virat-kholi-testodit20-stat/final (1).csv\")\n",
    "df.head()"
   ]
  },
  {
   "cell_type": "code",
   "execution_count": 3,
   "id": "89d92e10",
   "metadata": {
    "execution": {
     "iopub.execute_input": "2023-10-19T20:03:52.984376Z",
     "iopub.status.busy": "2023-10-19T20:03:52.983669Z",
     "iopub.status.idle": "2023-10-19T20:03:52.996914Z",
     "shell.execute_reply": "2023-10-19T20:03:52.995792Z"
    },
    "papermill": {
     "duration": 0.022813,
     "end_time": "2023-10-19T20:03:53.000391",
     "exception": false,
     "start_time": "2023-10-19T20:03:52.977578",
     "status": "completed"
    },
    "tags": []
   },
   "outputs": [
    {
     "data": {
      "text/plain": [
       "index       0\n",
       "runs        0\n",
       "opponent    0\n",
       "ground      0\n",
       "date        0\n",
       "match       0\n",
       "Match_No    0\n",
       "total       0\n",
       "dtype: int64"
      ]
     },
     "execution_count": 3,
     "metadata": {},
     "output_type": "execute_result"
    }
   ],
   "source": [
    "df.isna().sum()"
   ]
  },
  {
   "cell_type": "code",
   "execution_count": 4,
   "id": "c3211028",
   "metadata": {
    "execution": {
     "iopub.execute_input": "2023-10-19T20:03:53.021033Z",
     "iopub.status.busy": "2023-10-19T20:03:53.020512Z",
     "iopub.status.idle": "2023-10-19T20:03:53.052875Z",
     "shell.execute_reply": "2023-10-19T20:03:53.051266Z"
    },
    "papermill": {
     "duration": 0.049471,
     "end_time": "2023-10-19T20:03:53.055279",
     "exception": false,
     "start_time": "2023-10-19T20:03:53.005808",
     "status": "completed"
    },
    "tags": []
   },
   "outputs": [
    {
     "name": "stdout",
     "output_type": "stream",
     "text": [
      "<class 'pandas.core.frame.DataFrame'>\n",
      "RangeIndex: 516 entries, 0 to 515\n",
      "Data columns (total 8 columns):\n",
      " #   Column    Non-Null Count  Dtype \n",
      "---  ------    --------------  ----- \n",
      " 0   index     516 non-null    int64 \n",
      " 1   runs      516 non-null    int64 \n",
      " 2   opponent  516 non-null    object\n",
      " 3   ground    516 non-null    object\n",
      " 4   date      516 non-null    object\n",
      " 5   match     516 non-null    object\n",
      " 6   Match_No  516 non-null    int64 \n",
      " 7   total     516 non-null    int64 \n",
      "dtypes: int64(4), object(4)\n",
      "memory usage: 32.4+ KB\n"
     ]
    }
   ],
   "source": [
    "df.info()"
   ]
  },
  {
   "cell_type": "code",
   "execution_count": 5,
   "id": "cc6f71ae",
   "metadata": {
    "execution": {
     "iopub.execute_input": "2023-10-19T20:03:53.067729Z",
     "iopub.status.busy": "2023-10-19T20:03:53.066827Z",
     "iopub.status.idle": "2023-10-19T20:03:53.095348Z",
     "shell.execute_reply": "2023-10-19T20:03:53.094038Z"
    },
    "papermill": {
     "duration": 0.038348,
     "end_time": "2023-10-19T20:03:53.098036",
     "exception": false,
     "start_time": "2023-10-19T20:03:53.059688",
     "status": "completed"
    },
    "tags": []
   },
   "outputs": [
    {
     "data": {
      "text/html": [
       "<div>\n",
       "<style scoped>\n",
       "    .dataframe tbody tr th:only-of-type {\n",
       "        vertical-align: middle;\n",
       "    }\n",
       "\n",
       "    .dataframe tbody tr th {\n",
       "        vertical-align: top;\n",
       "    }\n",
       "\n",
       "    .dataframe thead th {\n",
       "        text-align: right;\n",
       "    }\n",
       "</style>\n",
       "<table border=\"1\" class=\"dataframe\">\n",
       "  <thead>\n",
       "    <tr style=\"text-align: right;\">\n",
       "      <th></th>\n",
       "      <th>index</th>\n",
       "      <th>runs</th>\n",
       "      <th>Match_No</th>\n",
       "      <th>total</th>\n",
       "    </tr>\n",
       "  </thead>\n",
       "  <tbody>\n",
       "    <tr>\n",
       "      <th>count</th>\n",
       "      <td>516.000000</td>\n",
       "      <td>516.000000</td>\n",
       "      <td>516.000000</td>\n",
       "      <td>516.000000</td>\n",
       "    </tr>\n",
       "    <tr>\n",
       "      <th>mean</th>\n",
       "      <td>270.118217</td>\n",
       "      <td>45.947674</td>\n",
       "      <td>258.500000</td>\n",
       "      <td>11681.726744</td>\n",
       "    </tr>\n",
       "    <tr>\n",
       "      <th>std</th>\n",
       "      <td>155.219618</td>\n",
       "      <td>44.584372</td>\n",
       "      <td>149.100637</td>\n",
       "      <td>7301.114849</td>\n",
       "    </tr>\n",
       "    <tr>\n",
       "      <th>min</th>\n",
       "      <td>0.000000</td>\n",
       "      <td>0.000000</td>\n",
       "      <td>1.000000</td>\n",
       "      <td>12.000000</td>\n",
       "    </tr>\n",
       "    <tr>\n",
       "      <th>25%</th>\n",
       "      <td>134.750000</td>\n",
       "      <td>11.000000</td>\n",
       "      <td>129.750000</td>\n",
       "      <td>5328.250000</td>\n",
       "    </tr>\n",
       "    <tr>\n",
       "      <th>50%</th>\n",
       "      <td>270.500000</td>\n",
       "      <td>32.500000</td>\n",
       "      <td>258.500000</td>\n",
       "      <td>10886.500000</td>\n",
       "    </tr>\n",
       "    <tr>\n",
       "      <th>75%</th>\n",
       "      <td>403.250000</td>\n",
       "      <td>70.250000</td>\n",
       "      <td>387.250000</td>\n",
       "      <td>18535.750000</td>\n",
       "    </tr>\n",
       "    <tr>\n",
       "      <th>max</th>\n",
       "      <td>539.000000</td>\n",
       "      <td>254.000000</td>\n",
       "      <td>516.000000</td>\n",
       "      <td>23709.000000</td>\n",
       "    </tr>\n",
       "  </tbody>\n",
       "</table>\n",
       "</div>"
      ],
      "text/plain": [
       "            index        runs    Match_No         total\n",
       "count  516.000000  516.000000  516.000000    516.000000\n",
       "mean   270.118217   45.947674  258.500000  11681.726744\n",
       "std    155.219618   44.584372  149.100637   7301.114849\n",
       "min      0.000000    0.000000    1.000000     12.000000\n",
       "25%    134.750000   11.000000  129.750000   5328.250000\n",
       "50%    270.500000   32.500000  258.500000  10886.500000\n",
       "75%    403.250000   70.250000  387.250000  18535.750000\n",
       "max    539.000000  254.000000  516.000000  23709.000000"
      ]
     },
     "execution_count": 5,
     "metadata": {},
     "output_type": "execute_result"
    }
   ],
   "source": [
    "df.describe()"
   ]
  },
  {
   "cell_type": "code",
   "execution_count": 6,
   "id": "aa06a7fb",
   "metadata": {
    "execution": {
     "iopub.execute_input": "2023-10-19T20:03:53.110345Z",
     "iopub.status.busy": "2023-10-19T20:03:53.109942Z",
     "iopub.status.idle": "2023-10-19T20:03:53.122367Z",
     "shell.execute_reply": "2023-10-19T20:03:53.121057Z"
    },
    "papermill": {
     "duration": 0.022171,
     "end_time": "2023-10-19T20:03:53.124831",
     "exception": false,
     "start_time": "2023-10-19T20:03:53.102660",
     "status": "completed"
    },
    "tags": []
   },
   "outputs": [],
   "source": [
    "df.drop(labels='index',axis=1,inplace=True)"
   ]
  },
  {
   "cell_type": "code",
   "execution_count": 7,
   "id": "09ceb4f1",
   "metadata": {
    "execution": {
     "iopub.execute_input": "2023-10-19T20:03:53.136889Z",
     "iopub.status.busy": "2023-10-19T20:03:53.135752Z",
     "iopub.status.idle": "2023-10-19T20:03:53.154407Z",
     "shell.execute_reply": "2023-10-19T20:03:53.153207Z"
    },
    "papermill": {
     "duration": 0.027355,
     "end_time": "2023-10-19T20:03:53.156720",
     "exception": false,
     "start_time": "2023-10-19T20:03:53.129365",
     "status": "completed"
    },
    "tags": []
   },
   "outputs": [
    {
     "data": {
      "text/html": [
       "<div>\n",
       "<style scoped>\n",
       "    .dataframe tbody tr th:only-of-type {\n",
       "        vertical-align: middle;\n",
       "    }\n",
       "\n",
       "    .dataframe tbody tr th {\n",
       "        vertical-align: top;\n",
       "    }\n",
       "\n",
       "    .dataframe thead th {\n",
       "        text-align: right;\n",
       "    }\n",
       "</style>\n",
       "<table border=\"1\" class=\"dataframe\">\n",
       "  <thead>\n",
       "    <tr style=\"text-align: right;\">\n",
       "      <th></th>\n",
       "      <th>runs</th>\n",
       "      <th>opponent</th>\n",
       "      <th>ground</th>\n",
       "      <th>date</th>\n",
       "      <th>match</th>\n",
       "      <th>Match_No</th>\n",
       "      <th>total</th>\n",
       "    </tr>\n",
       "  </thead>\n",
       "  <tbody>\n",
       "    <tr>\n",
       "      <th>0</th>\n",
       "      <td>12</td>\n",
       "      <td>SriLanka</td>\n",
       "      <td>Dambulla</td>\n",
       "      <td>18Aug2008</td>\n",
       "      <td>ODI</td>\n",
       "      <td>1</td>\n",
       "      <td>12</td>\n",
       "    </tr>\n",
       "    <tr>\n",
       "      <th>1</th>\n",
       "      <td>37</td>\n",
       "      <td>SriLanka</td>\n",
       "      <td>Dambulla</td>\n",
       "      <td>20Aug2008</td>\n",
       "      <td>ODI</td>\n",
       "      <td>2</td>\n",
       "      <td>49</td>\n",
       "    </tr>\n",
       "    <tr>\n",
       "      <th>2</th>\n",
       "      <td>25</td>\n",
       "      <td>SriLanka</td>\n",
       "      <td>Colombo(RPS)</td>\n",
       "      <td>24Aug2008</td>\n",
       "      <td>ODI</td>\n",
       "      <td>3</td>\n",
       "      <td>74</td>\n",
       "    </tr>\n",
       "    <tr>\n",
       "      <th>3</th>\n",
       "      <td>54</td>\n",
       "      <td>SriLanka</td>\n",
       "      <td>Colombo(RPS)</td>\n",
       "      <td>27Aug2008</td>\n",
       "      <td>ODI</td>\n",
       "      <td>4</td>\n",
       "      <td>128</td>\n",
       "    </tr>\n",
       "    <tr>\n",
       "      <th>4</th>\n",
       "      <td>31</td>\n",
       "      <td>SriLanka</td>\n",
       "      <td>Colombo(RPS)</td>\n",
       "      <td>29Aug2008</td>\n",
       "      <td>ODI</td>\n",
       "      <td>5</td>\n",
       "      <td>159</td>\n",
       "    </tr>\n",
       "    <tr>\n",
       "      <th>...</th>\n",
       "      <td>...</td>\n",
       "      <td>...</td>\n",
       "      <td>...</td>\n",
       "      <td>...</td>\n",
       "      <td>...</td>\n",
       "      <td>...</td>\n",
       "      <td>...</td>\n",
       "    </tr>\n",
       "    <tr>\n",
       "      <th>511</th>\n",
       "      <td>11</td>\n",
       "      <td>England</td>\n",
       "      <td>Birmingham</td>\n",
       "      <td>1Jul2022</td>\n",
       "      <td>Test</td>\n",
       "      <td>512</td>\n",
       "      <td>23661</td>\n",
       "    </tr>\n",
       "    <tr>\n",
       "      <th>512</th>\n",
       "      <td>20</td>\n",
       "      <td>England</td>\n",
       "      <td>Birmingham</td>\n",
       "      <td>1Jul2022</td>\n",
       "      <td>Test</td>\n",
       "      <td>513</td>\n",
       "      <td>23681</td>\n",
       "    </tr>\n",
       "    <tr>\n",
       "      <th>513</th>\n",
       "      <td>1</td>\n",
       "      <td>England</td>\n",
       "      <td>Birmingham</td>\n",
       "      <td>9Jul2022</td>\n",
       "      <td>T20</td>\n",
       "      <td>514</td>\n",
       "      <td>23682</td>\n",
       "    </tr>\n",
       "    <tr>\n",
       "      <th>514</th>\n",
       "      <td>11</td>\n",
       "      <td>England</td>\n",
       "      <td>Nottingham</td>\n",
       "      <td>10Jul2022</td>\n",
       "      <td>T20</td>\n",
       "      <td>515</td>\n",
       "      <td>23693</td>\n",
       "    </tr>\n",
       "    <tr>\n",
       "      <th>515</th>\n",
       "      <td>16</td>\n",
       "      <td>England</td>\n",
       "      <td>Lord's</td>\n",
       "      <td>14Jul2022</td>\n",
       "      <td>ODI</td>\n",
       "      <td>516</td>\n",
       "      <td>23709</td>\n",
       "    </tr>\n",
       "  </tbody>\n",
       "</table>\n",
       "<p>516 rows × 7 columns</p>\n",
       "</div>"
      ],
      "text/plain": [
       "     runs  opponent        ground       date match  Match_No  total\n",
       "0      12  SriLanka      Dambulla  18Aug2008   ODI         1     12\n",
       "1      37  SriLanka      Dambulla  20Aug2008   ODI         2     49\n",
       "2      25  SriLanka  Colombo(RPS)  24Aug2008   ODI         3     74\n",
       "3      54  SriLanka  Colombo(RPS)  27Aug2008   ODI         4    128\n",
       "4      31  SriLanka  Colombo(RPS)  29Aug2008   ODI         5    159\n",
       "..    ...       ...           ...        ...   ...       ...    ...\n",
       "511    11   England    Birmingham   1Jul2022  Test       512  23661\n",
       "512    20   England    Birmingham   1Jul2022  Test       513  23681\n",
       "513     1   England    Birmingham   9Jul2022   T20       514  23682\n",
       "514    11   England    Nottingham  10Jul2022   T20       515  23693\n",
       "515    16   England        Lord's  14Jul2022   ODI       516  23709\n",
       "\n",
       "[516 rows x 7 columns]"
      ]
     },
     "execution_count": 7,
     "metadata": {},
     "output_type": "execute_result"
    }
   ],
   "source": [
    "df"
   ]
  },
  {
   "cell_type": "code",
   "execution_count": 8,
   "id": "b824ba34",
   "metadata": {
    "execution": {
     "iopub.execute_input": "2023-10-19T20:03:53.168914Z",
     "iopub.status.busy": "2023-10-19T20:03:53.168504Z",
     "iopub.status.idle": "2023-10-19T20:03:55.079325Z",
     "shell.execute_reply": "2023-10-19T20:03:55.077738Z"
    },
    "papermill": {
     "duration": 1.920823,
     "end_time": "2023-10-19T20:03:55.082272",
     "exception": false,
     "start_time": "2023-10-19T20:03:53.161449",
     "status": "completed"
    },
    "tags": []
   },
   "outputs": [],
   "source": [
    "import seaborn as sns\n",
    "import matplotlib.pyplot as plt"
   ]
  },
  {
   "cell_type": "code",
   "execution_count": 9,
   "id": "b6f32baa",
   "metadata": {
    "execution": {
     "iopub.execute_input": "2023-10-19T20:03:55.095108Z",
     "iopub.status.busy": "2023-10-19T20:03:55.094339Z",
     "iopub.status.idle": "2023-10-19T20:03:55.104827Z",
     "shell.execute_reply": "2023-10-19T20:03:55.103631Z"
    },
    "papermill": {
     "duration": 0.02021,
     "end_time": "2023-10-19T20:03:55.107733",
     "exception": false,
     "start_time": "2023-10-19T20:03:55.087523",
     "status": "completed"
    },
    "tags": []
   },
   "outputs": [
    {
     "data": {
      "text/plain": [
       "ground\n",
       "Mirpur               23\n",
       "Kolkata              18\n",
       "Ahmedabad            17\n",
       "Sydney               17\n",
       "Bengaluru            17\n",
       "                     ..\n",
       "Bristol               1\n",
       "Brabourne             1\n",
       "Providence            1\n",
       "Roseau                1\n",
       "Chester-le-Street     1\n",
       "Name: count, Length: 73, dtype: int64"
      ]
     },
     "execution_count": 9,
     "metadata": {},
     "output_type": "execute_result"
    }
   ],
   "source": [
    "df['ground'].value_counts()"
   ]
  },
  {
   "cell_type": "code",
   "execution_count": 10,
   "id": "471fbbd6",
   "metadata": {
    "execution": {
     "iopub.execute_input": "2023-10-19T20:03:55.122011Z",
     "iopub.status.busy": "2023-10-19T20:03:55.121267Z",
     "iopub.status.idle": "2023-10-19T20:03:55.128107Z",
     "shell.execute_reply": "2023-10-19T20:03:55.127010Z"
    },
    "papermill": {
     "duration": 0.017418,
     "end_time": "2023-10-19T20:03:55.130820",
     "exception": false,
     "start_time": "2023-10-19T20:03:55.113402",
     "status": "completed"
    },
    "tags": []
   },
   "outputs": [],
   "source": [
    "top_10_ground=df.sort_values(by='runs',ascending=False)['ground'].head(10)"
   ]
  },
  {
   "cell_type": "code",
   "execution_count": 11,
   "id": "5799a266",
   "metadata": {
    "execution": {
     "iopub.execute_input": "2023-10-19T20:03:55.142918Z",
     "iopub.status.busy": "2023-10-19T20:03:55.142420Z",
     "iopub.status.idle": "2023-10-19T20:03:55.151028Z",
     "shell.execute_reply": "2023-10-19T20:03:55.149762Z"
    },
    "papermill": {
     "duration": 0.018262,
     "end_time": "2023-10-19T20:03:55.154055",
     "exception": false,
     "start_time": "2023-10-19T20:03:55.135793",
     "status": "completed"
    },
    "tags": []
   },
   "outputs": [
    {
     "data": {
      "text/plain": [
       "434                 Pune\n",
       "349                Delhi\n",
       "297             Wankhede\n",
       "348               Nagpur\n",
       "284               Indore\n",
       "305    Hyderabad(Deccan)\n",
       "275           NorthSound\n",
       "103               Mirpur\n",
       "219            Melbourne\n",
       "293        Visakhapatnam\n",
       "Name: ground, dtype: object"
      ]
     },
     "execution_count": 11,
     "metadata": {},
     "output_type": "execute_result"
    }
   ],
   "source": [
    "top_10_ground"
   ]
  },
  {
   "cell_type": "code",
   "execution_count": 12,
   "id": "3755321b",
   "metadata": {
    "execution": {
     "iopub.execute_input": "2023-10-19T20:03:55.165921Z",
     "iopub.status.busy": "2023-10-19T20:03:55.165471Z",
     "iopub.status.idle": "2023-10-19T20:03:55.173814Z",
     "shell.execute_reply": "2023-10-19T20:03:55.172362Z"
    },
    "papermill": {
     "duration": 0.016945,
     "end_time": "2023-10-19T20:03:55.175975",
     "exception": false,
     "start_time": "2023-10-19T20:03:55.159030",
     "status": "completed"
    },
    "tags": []
   },
   "outputs": [
    {
     "data": {
      "text/plain": [
       "Index([434, 349, 297, 348, 284, 305, 275, 103, 219, 293], dtype='int64')"
      ]
     },
     "execution_count": 12,
     "metadata": {},
     "output_type": "execute_result"
    }
   ],
   "source": [
    "top_10_ground.index"
   ]
  },
  {
   "cell_type": "code",
   "execution_count": 13,
   "id": "92b99b06",
   "metadata": {
    "execution": {
     "iopub.execute_input": "2023-10-19T20:03:55.187855Z",
     "iopub.status.busy": "2023-10-19T20:03:55.187444Z",
     "iopub.status.idle": "2023-10-19T20:03:55.195234Z",
     "shell.execute_reply": "2023-10-19T20:03:55.194051Z"
    },
    "papermill": {
     "duration": 0.016205,
     "end_time": "2023-10-19T20:03:55.197268",
     "exception": false,
     "start_time": "2023-10-19T20:03:55.181063",
     "status": "completed"
    },
    "tags": []
   },
   "outputs": [
    {
     "data": {
      "text/plain": [
       "array(['Pune', 'Delhi', 'Wankhede', 'Nagpur', 'Indore',\n",
       "       'Hyderabad(Deccan)', 'NorthSound', 'Mirpur', 'Melbourne',\n",
       "       'Visakhapatnam'], dtype=object)"
      ]
     },
     "execution_count": 13,
     "metadata": {},
     "output_type": "execute_result"
    }
   ],
   "source": [
    "top_10_ground.values"
   ]
  },
  {
   "cell_type": "code",
   "execution_count": 14,
   "id": "6f0691e8",
   "metadata": {
    "execution": {
     "iopub.execute_input": "2023-10-19T20:03:55.210817Z",
     "iopub.status.busy": "2023-10-19T20:03:55.209341Z",
     "iopub.status.idle": "2023-10-19T20:03:55.590405Z",
     "shell.execute_reply": "2023-10-19T20:03:55.588840Z"
    },
    "papermill": {
     "duration": 0.390531,
     "end_time": "2023-10-19T20:03:55.593082",
     "exception": false,
     "start_time": "2023-10-19T20:03:55.202551",
     "status": "completed"
    },
    "tags": []
   },
   "outputs": [
    {
     "data": {
      "image/png": "[encoded data removed]",
      "text/plain": [
       "<Figure size 1200x500 with 1 Axes>"
      ]
     },
     "metadata": {},
     "output_type": "display_data"
    }
   ],
   "source": [
    "plt.figure(figsize=(12,5))\n",
    "ax=sns.barplot(x=top_10_ground.index,y=top_10_ground.values,data=df,width=0.9)\n",
    "for i in ax.containers:\n",
    "    ax.bar_label(i)"
   ]
  },
  {
   "cell_type": "code",
   "execution_count": null,
   "id": "c29270d1",
   "metadata": {
    "execution": {
     "iopub.execute_input": "2023-10-19T20:02:42.430394Z",
     "iopub.status.busy": "2023-10-19T20:02:42.430055Z",
     "iopub.status.idle": "2023-10-19T20:02:42.465146Z",
     "shell.execute_reply": "2023-10-19T20:02:42.463757Z",
     "shell.execute_reply.started": "2023-10-19T20:02:42.430368Z"
    },
    "papermill": {
     "duration": 0.005411,
     "end_time": "2023-10-19T20:03:55.604250",
     "exception": false,
     "start_time": "2023-10-19T20:03:55.598839",
     "status": "completed"
    },
    "tags": []
   },
   "outputs": [],
   "source": [
    "\n"
   ]
  },
  {
   "cell_type": "code",
   "execution_count": null,
   "id": "67e4773d",
   "metadata": {
    "papermill": {
     "duration": 0.005187,
     "end_time": "2023-10-19T20:03:55.615164",
     "exception": false,
     "start_time": "2023-10-19T20:03:55.609977",
     "status": "completed"
    },
    "tags": []
   },
   "outputs": [],
   "source": []
  }
 ],
 "metadata": {
  "kernelspec": {
   "display_name": "Python 3",
   "language": "python",
   "name": "python3"
  },
  "language_info": {
   "codemirror_mode": {
    "name": "ipython",
    "version": 3
   },
   "file_extension": ".py",
   "mimetype": "text/x-python",
   "name": "python",
   "nbconvert_exporter": "python",
   "pygments_lexer": "ipython3",
   "version": "3.10.12"
  },
  "papermill": {
   "default_parameters": {},
   "duration": 7.689882,
   "end_time": "2023-10-19T20:03:56.444506",
   "environment_variables": {},
   "exception": null,
   "input_path": "__notebook__.ipynb",
   "output_path": "__notebook__.ipynb",
   "parameters": {},
   "start_time": "2023-10-19T20:03:48.754624",
   "version": "2.4.0"
  }
 },
 "nbformat": 4,
 "nbformat_minor": 5
}
